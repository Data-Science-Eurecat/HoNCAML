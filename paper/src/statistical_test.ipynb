{
 "cells": [
  {
   "cell_type": "code",
   "execution_count": 1,
   "id": "4a5bad8a",
   "metadata": {},
   "outputs": [],
   "source": [
    "import pandas as pd\n",
    "import numpy as np\n",
    "from scipy.stats import friedmanchisquare\n",
    "import os"
   ]
  },
  {
   "cell_type": "code",
   "execution_count": 2,
   "id": "58f51ac8",
   "metadata": {},
   "outputs": [],
   "source": [
    "# f1_score for classification\n",
    "# mean_absolute_percentage_error for regression\n",
    "metric = 'f1_score'"
   ]
  },
  {
   "cell_type": "code",
   "execution_count": 3,
   "id": "09d7be07",
   "metadata": {},
   "outputs": [],
   "source": [
    "f1_scores = []\n",
    "libraries = []\n",
    "for file_name in os.listdir('../results'):\n",
    "    if metric == 'f1_score' and file_name == 'autokeras.csv':\n",
    "        continue\n",
    "    raw_results_df = pd.read_csv(f'raw_results/{file_name}')\n",
    "    lib_f1_scores = raw_results_df[(raw_results_df['metric'] == metric) & \n",
    "                                   (raw_results_df['metric_type'] == 'mean')]['value'].to_numpy()\n",
    "    libraries.append(file_name)\n",
    "    f1_scores.append(lib_f1_scores)"
   ]
  },
  {
   "cell_type": "code",
   "execution_count": 4,
   "id": "4216d3ca",
   "metadata": {},
   "outputs": [
    {
     "name": "stdout",
     "output_type": "stream",
     "text": [
      "0.005556474180979431\n"
     ]
    }
   ],
   "source": [
    "# Perform Friedman test\n",
    "statistic, p_value = friedmanchisquare(*f1_scores)\n",
    "\n",
    "# Check for statistical significance\n",
    "alpha = 0.05\n",
    "print(p_value)"
   ]
  },
  {
   "cell_type": "code",
   "execution_count": null,
   "id": "14062045",
   "metadata": {},
   "outputs": [],
   "source": []
  }
 ],
 "metadata": {
  "kernelspec": {
   "display_name": "Python 3 (ipykernel)",
   "language": "python",
   "name": "python3"
  },
  "language_info": {
   "codemirror_mode": {
    "name": "ipython",
    "version": 3
   },
   "file_extension": ".py",
   "mimetype": "text/x-python",
   "name": "python",
   "nbconvert_exporter": "python",
   "pygments_lexer": "ipython3",
   "version": "3.8.10"
  }
 },
 "nbformat": 4,
 "nbformat_minor": 5
}
